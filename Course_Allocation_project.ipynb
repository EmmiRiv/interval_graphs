{
  "nbformat": 4,
  "nbformat_minor": 0,
  "metadata": {
    "colab": {
      "provenance": [],
      "include_colab_link": true
    },
    "kernelspec": {
      "name": "python3",
      "display_name": "Python 3"
    },
    "language_info": {
      "name": "python"
    }
  },
  "cells": [
    {
      "cell_type": "markdown",
      "metadata": {
        "id": "view-in-github",
        "colab_type": "text"
      },
      "source": [
        "<a href=\"https://colab.research.google.com/github/EmmiRiv/interval_graphs/blob/main/Course_Allocation_project.ipynb\" target=\"_parent\"><img src=\"https://colab.research.google.com/assets/colab-badge.svg\" alt=\"Open In Colab\"/></a>"
      ]
    },
    {
      "cell_type": "code",
      "source": [
        "pip install gurobipy"
      ],
      "metadata": {
        "colab": {
          "base_uri": "https://localhost:8080/"
        },
        "id": "dHkpFzIBaujo",
        "outputId": "ff50229d-823e-4b79-d9da-e2b381e772f4"
      },
      "execution_count": 2,
      "outputs": [
        {
          "output_type": "stream",
          "name": "stdout",
          "text": [
            "Collecting gurobipy\n",
            "  Downloading gurobipy-10.0.2-cp310-cp310-manylinux2014_x86_64.whl (12.7 MB)\n",
            "\u001b[2K     \u001b[90m━━━━━━━━━━━━━━━━━━━━━━━━━━━━━━━━━━━━━━━━\u001b[0m \u001b[32m12.7/12.7 MB\u001b[0m \u001b[31m43.9 MB/s\u001b[0m eta \u001b[36m0:00:00\u001b[0m\n",
            "\u001b[?25hInstalling collected packages: gurobipy\n",
            "Successfully installed gurobipy-10.0.2\n"
          ]
        }
      ]
    },
    {
      "cell_type": "code",
      "source": [
        "\n",
        "import numpy as np\n",
        "from gurobipy import *\n",
        "weights= [1,2,3,4]\n",
        "t=4\n",
        "#three classes with three intervals\n",
        "classes_vertex=[[[1,3],[5,7],[9,11],[14,17]],[[2,4],[6,8],[14,16],[18,20]],[[1,4],[8,10],[12,14],[16,19]],[[2,5],[6,9],[13,15],[18,21]]]\n",
        "MWIS=Model('Max_weight_Indpendent_set_t_interval_graph')\n",
        "xvi=MWIS.addMVar((len(weights)*t), lb=0.0, ub=1.0,  vtype=GRB.CONTINUOUS, name=\"xvi\")\n",
        "xv = MWIS.addVars(len(weights), lb=0.0, ub=1.0, vtype=GRB.CONTINUOUS, name=\"xv\")\n",
        "for classes in classes_vertex:\n",
        "  for interval in classes:\n",
        "    inclique=[]\n",
        "    for cl in classes_vertex:\n",
        "      for inv in cl:\n",
        "        if inv[0]<=interval[1] and inv[1]>=interval[1]:\n",
        "          inclique.append(1)\n",
        "        else:\n",
        "          inclique.append(0)\n",
        "    #print(inclique)\n",
        "    MWIS.addConstr(sum(inclique[i] * xvi[i] for i in range(len(weights)*t)) <= 1)\n",
        "for i in range(len(weights)):\n",
        "  for j in range(t):\n",
        "    MWIS.addConstr(xvi[i*(len(weights))+j]>=xv[i])\n",
        "obj_fn = sum(xv[i]*weights[i] for i in range(len(weights)))\n",
        "MWIS.setObjective(obj_fn, GRB.MAXIMIZE)\n",
        "\n",
        "MWIS.optimize()\n",
        "\n",
        "if MWIS.status == GRB.OPTIMAL:\n",
        "    print('Optimal solution found!')\n",
        "    print('Objective value: ', MWIS.objVal)\n",
        "\n",
        "    # Print variable values\n",
        "    print('Variable values:')\n",
        "    for var in MWIS.getVars():\n",
        "        print(var.varName, ':', var.x)\n",
        "else:\n",
        "    print('Optimization ended with status', MWIS.status)\n",
        "\n",
        "\n"
      ],
      "metadata": {
        "colab": {
          "base_uri": "https://localhost:8080/"
        },
        "id": "wcd6ISNT8pFh",
        "outputId": "e05826e2-de35-408f-a8bd-2508a5508ac2"
      },
      "execution_count": 40,
      "outputs": [
        {
          "output_type": "stream",
          "name": "stdout",
          "text": [
            "[1, 0, 0, 0, 1, 0, 0, 0, 1, 0, 0, 0, 1, 0, 0, 0]\n",
            "Warning for adding constraints: zero or small (< 1e-13) coefficients, ignored\n",
            "[0, 1, 0, 0, 0, 1, 0, 0, 0, 0, 0, 0, 0, 1, 0, 0]\n",
            "[0, 0, 1, 0, 0, 0, 0, 0, 0, 0, 0, 0, 0, 0, 0, 0]\n",
            "[0, 0, 0, 1, 0, 0, 0, 0, 0, 0, 0, 1, 0, 0, 0, 0]\n",
            "[0, 0, 0, 0, 1, 0, 0, 0, 1, 0, 0, 0, 1, 0, 0, 0]\n",
            "[0, 0, 0, 0, 0, 1, 0, 0, 0, 1, 0, 0, 0, 1, 0, 0]\n",
            "[0, 0, 0, 1, 0, 0, 1, 0, 0, 0, 0, 1, 0, 0, 0, 0]\n",
            "[0, 0, 0, 0, 0, 0, 0, 1, 0, 0, 0, 0, 0, 0, 0, 1]\n",
            "[0, 0, 0, 0, 1, 0, 0, 0, 1, 0, 0, 0, 1, 0, 0, 0]\n",
            "[0, 0, 1, 0, 0, 0, 0, 0, 0, 1, 0, 0, 0, 0, 0, 0]\n",
            "[0, 0, 0, 1, 0, 0, 1, 0, 0, 0, 1, 0, 0, 0, 1, 0]\n",
            "[0, 0, 0, 0, 0, 0, 0, 1, 0, 0, 0, 1, 0, 0, 0, 1]\n",
            "[0, 1, 0, 0, 0, 0, 0, 0, 0, 0, 0, 0, 1, 0, 0, 0]\n",
            "[0, 0, 1, 0, 0, 0, 0, 0, 0, 1, 0, 0, 0, 1, 0, 0]\n",
            "[0, 0, 0, 1, 0, 0, 1, 0, 0, 0, 0, 0, 0, 0, 1, 0]\n",
            "[0, 0, 0, 0, 0, 0, 0, 0, 0, 0, 0, 0, 0, 0, 0, 1]\n",
            "Gurobi Optimizer version 10.0.2 build v10.0.2rc0 (linux64)\n",
            "\n",
            "CPU model: Intel(R) Xeon(R) CPU @ 2.20GHz, instruction set [SSE2|AVX|AVX2]\n",
            "Thread count: 1 physical cores, 2 logical processors, using up to 2 threads\n",
            "\n",
            "Optimize a model with 32 rows, 20 columns and 74 nonzeros\n",
            "Model fingerprint: 0x574ebf44\n",
            "Coefficient statistics:\n",
            "  Matrix range     [1e+00, 1e+00]\n",
            "  Objective range  [1e+00, 4e+00]\n",
            "  Bounds range     [1e+00, 1e+00]\n",
            "  RHS range        [1e+00, 1e+00]\n",
            "Presolve removed 24 rows and 16 columns\n",
            "Presolve time: 0.01s\n",
            "Presolved: 8 rows, 4 columns, 22 nonzeros\n",
            "\n",
            "Iteration    Objective       Primal Inf.    Dual Inf.      Time\n",
            "       0    4.0000000e+00   0.000000e+00   0.000000e+00      0s\n",
            "       0    4.0000000e+00   0.000000e+00   0.000000e+00      0s\n",
            "\n",
            "Solved in 0 iterations and 0.02 seconds (0.00 work units)\n",
            "Optimal objective  4.000000000e+00\n",
            "Optimal solution found!\n",
            "Objective value:  4.0\n",
            "Variable values:\n",
            "xvi[0] : 0.0\n",
            "xvi[1] : 0.0\n",
            "xvi[2] : 0.0\n",
            "xvi[3] : 0.0\n",
            "xvi[4] : 0.0\n",
            "xvi[5] : 0.0\n",
            "xvi[6] : 0.0\n",
            "xvi[7] : 0.0\n",
            "xvi[8] : 0.0\n",
            "xvi[9] : 0.0\n",
            "xvi[10] : 0.0\n",
            "xvi[11] : 0.0\n",
            "xvi[12] : 1.0\n",
            "xvi[13] : 1.0\n",
            "xvi[14] : 1.0\n",
            "xvi[15] : 1.0\n",
            "xv[0] : 0.0\n",
            "xv[1] : 0.0\n",
            "xv[2] : 0.0\n",
            "xv[3] : 1.0\n"
          ]
        }
      ]
    },
    {
      "cell_type": "code",
      "source": [],
      "metadata": {
        "id": "t0ZvHrhyKmcu"
      },
      "execution_count": null,
      "outputs": []
    }
  ]
}